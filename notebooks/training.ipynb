{
 "cells": [
  {
   "cell_type": "code",
   "execution_count": 1,
   "metadata": {},
   "outputs": [],
   "source": [
    "import sys\n",
    "sys.path.append('../')\n",
    "import torch \n",
    "import torch.nn as nn\n",
    "from torchvision import datasets,models,transforms\n",
    "import pandas as pd \n",
    "import os\n",
    "import glob\n",
    "import numpy as np\n",
    "from src import config \n",
    "import time\n",
    "import copy"
   ]
  },
  {
   "cell_type": "code",
   "execution_count": 2,
   "metadata": {},
   "outputs": [
    {
     "output_type": "execute_result",
     "data": {
      "text/plain": "            filename      label\n0    0-with-mask.jpg  with_mask\n1    1-with-mask.jpg  with_mask\n2   10-with-mask.jpg  with_mask\n3  100-with-mask.jpg  with_mask\n4  101-with-mask.jpg  with_mask",
      "text/html": "<div>\n<style scoped>\n    .dataframe tbody tr th:only-of-type {\n        vertical-align: middle;\n    }\n\n    .dataframe tbody tr th {\n        vertical-align: top;\n    }\n\n    .dataframe thead th {\n        text-align: right;\n    }\n</style>\n<table border=\"1\" class=\"dataframe\">\n  <thead>\n    <tr style=\"text-align: right;\">\n      <th></th>\n      <th>filename</th>\n      <th>label</th>\n    </tr>\n  </thead>\n  <tbody>\n    <tr>\n      <th>0</th>\n      <td>0-with-mask.jpg</td>\n      <td>with_mask</td>\n    </tr>\n    <tr>\n      <th>1</th>\n      <td>1-with-mask.jpg</td>\n      <td>with_mask</td>\n    </tr>\n    <tr>\n      <th>2</th>\n      <td>10-with-mask.jpg</td>\n      <td>with_mask</td>\n    </tr>\n    <tr>\n      <th>3</th>\n      <td>100-with-mask.jpg</td>\n      <td>with_mask</td>\n    </tr>\n    <tr>\n      <th>4</th>\n      <td>101-with-mask.jpg</td>\n      <td>with_mask</td>\n    </tr>\n  </tbody>\n</table>\n</div>"
     },
     "metadata": {},
     "execution_count": 2
    }
   ],
   "source": [
    "train_df = pd.read_csv(os.path.join('..',config.TRAINING_DATA,'train.csv'))\n",
    "train_df.head()"
   ]
  },
  {
   "cell_type": "code",
   "execution_count": 3,
   "metadata": {},
   "outputs": [
    {
     "output_type": "execute_result",
     "data": {
      "text/plain": "                  filename      label\n0  augmented_image_227.jpg  with_mask\n1  augmented_image_228.jpg  with_mask\n2   augmented_image_23.jpg  with_mask\n3  augmented_image_230.jpg  with_mask\n4  augmented_image_232.jpg  with_mask",
      "text/html": "<div>\n<style scoped>\n    .dataframe tbody tr th:only-of-type {\n        vertical-align: middle;\n    }\n\n    .dataframe tbody tr th {\n        vertical-align: top;\n    }\n\n    .dataframe thead th {\n        text-align: right;\n    }\n</style>\n<table border=\"1\" class=\"dataframe\">\n  <thead>\n    <tr style=\"text-align: right;\">\n      <th></th>\n      <th>filename</th>\n      <th>label</th>\n    </tr>\n  </thead>\n  <tbody>\n    <tr>\n      <th>0</th>\n      <td>augmented_image_227.jpg</td>\n      <td>with_mask</td>\n    </tr>\n    <tr>\n      <th>1</th>\n      <td>augmented_image_228.jpg</td>\n      <td>with_mask</td>\n    </tr>\n    <tr>\n      <th>2</th>\n      <td>augmented_image_23.jpg</td>\n      <td>with_mask</td>\n    </tr>\n    <tr>\n      <th>3</th>\n      <td>augmented_image_230.jpg</td>\n      <td>with_mask</td>\n    </tr>\n    <tr>\n      <th>4</th>\n      <td>augmented_image_232.jpg</td>\n      <td>with_mask</td>\n    </tr>\n  </tbody>\n</table>\n</div>"
     },
     "metadata": {},
     "execution_count": 3
    }
   ],
   "source": [
    "test_df = pd.read_csv(os.path.join('..',config.TESTING_DATA,'test.csv'))\n",
    "test_df.head()"
   ]
  },
  {
   "cell_type": "code",
   "execution_count": 4,
   "metadata": {},
   "outputs": [],
   "source": [
    "data_transforms = {\n",
    "    'train': transforms.Compose([\n",
    "        transforms.RandomResizedCrop(224),\n",
    "        transforms.ToTensor(), \n",
    "        transforms.Normalize([0.485, 0.456, 0.406], [0.229, 0.224, 0.225])\n",
    "    ]), \n",
    "    'test' : transforms.Compose([\n",
    "        transforms.Resize(256),\n",
    "        transforms.CenterCrop(224),\n",
    "        transforms.ToTensor(),\n",
    "        transforms.Normalize([0.485, 0.456, 0.406], [0.229, 0.224, 0.225])\n",
    "    ])\n",
    "}"
   ]
  },
  {
   "cell_type": "code",
   "execution_count": 5,
   "metadata": {},
   "outputs": [],
   "source": [
    "data_dir = '../data/'\n",
    "image_datasets = {x: datasets.ImageFolder(os.path.join(data_dir, x), data_transforms[x]) for x in ['train', 'test']}"
   ]
  },
  {
   "cell_type": "code",
   "execution_count": 6,
   "metadata": {},
   "outputs": [
    {
     "output_type": "execute_result",
     "data": {
      "text/plain": "Dataset ImageFolder\n    Number of datapoints: 1096\n    Root location: ../data/train\n    StandardTransform\nTransform: Compose(\n               RandomResizedCrop(size=(224, 224), scale=(0.08, 1.0), ratio=(0.75, 1.3333), interpolation=PIL.Image.BILINEAR)\n               ToTensor()\n               Normalize(mean=[0.485, 0.456, 0.406], std=[0.229, 0.224, 0.225])\n           )"
     },
     "metadata": {},
     "execution_count": 6
    }
   ],
   "source": [
    "image_datasets['train']"
   ]
  },
  {
   "cell_type": "code",
   "execution_count": 7,
   "metadata": {},
   "outputs": [
    {
     "output_type": "execute_result",
     "data": {
      "text/plain": "Dataset ImageFolder\n    Number of datapoints: 276\n    Root location: ../data/test\n    StandardTransform\nTransform: Compose(\n               Resize(size=256, interpolation=PIL.Image.BILINEAR)\n               CenterCrop(size=(224, 224))\n               ToTensor()\n               Normalize(mean=[0.485, 0.456, 0.406], std=[0.229, 0.224, 0.225])\n           )"
     },
     "metadata": {},
     "execution_count": 7
    }
   ],
   "source": [
    "image_datasets['test']"
   ]
  },
  {
   "cell_type": "code",
   "execution_count": 8,
   "metadata": {},
   "outputs": [],
   "source": [
    "dataloaders = {x: torch.utils.data.DataLoader(image_datasets[x], \n",
    "                                             batch_size=4, \n",
    "                                             shuffle=True, \n",
    "                                             num_workers=4) \n",
    "               for x in ['train', 'test']}"
   ]
  },
  {
   "cell_type": "code",
   "execution_count": 9,
   "metadata": {},
   "outputs": [],
   "source": [
    "class_names = image_datasets['train'].classes"
   ]
  },
  {
   "cell_type": "code",
   "execution_count": 10,
   "metadata": {},
   "outputs": [
    {
     "output_type": "execute_result",
     "data": {
      "text/plain": "['with_mask', 'without_mask']"
     },
     "metadata": {},
     "execution_count": 10
    }
   ],
   "source": [
    "class_names"
   ]
  },
  {
   "cell_type": "code",
   "execution_count": 11,
   "metadata": {},
   "outputs": [],
   "source": [
    "device = torch.device(\"cuda:0\" if torch.cuda.is_available() else \"cpu\")"
   ]
  },
  {
   "cell_type": "code",
   "execution_count": 12,
   "metadata": {},
   "outputs": [
    {
     "output_type": "execute_result",
     "data": {
      "text/plain": "device(type='cpu')"
     },
     "metadata": {},
     "execution_count": 12
    }
   ],
   "source": [
    "device"
   ]
  },
  {
   "cell_type": "code",
   "execution_count": 13,
   "metadata": {},
   "outputs": [],
   "source": [
    "dataset_sizes = {x: len(image_datasets[x]) for x in ['train', 'test']}"
   ]
  },
  {
   "cell_type": "code",
   "execution_count": 14,
   "metadata": {},
   "outputs": [
    {
     "output_type": "execute_result",
     "data": {
      "text/plain": "{'train': 1096, 'test': 276}"
     },
     "metadata": {},
     "execution_count": 14
    }
   ],
   "source": [
    "dataset_sizes"
   ]
  },
  {
   "cell_type": "code",
   "execution_count": 18,
   "metadata": {
    "tags": []
   },
   "outputs": [],
   "source": [
    "# model_ft = models.resnet101(pretrained=True)\n",
    "model_ft = models.mobilenet_v2(pretrained=True)\n",
    "\n",
    "# num_frts = model_ft.fc.in_features\n",
    "num_frts = model_ft.classifier[1].in_features\n",
    "model_ft.fc = nn.Linear(num_frts, len(class_names))\n",
    "\n",
    "model_ft = model_ft.to(device)\n",
    "criterion = nn.CrossEntropyLoss()\n",
    "\n",
    "#optimizer_ft = optim.SGD(model_ft.parameters(), lr=0.01, momentum=0.9)\n",
    "optimizer_ft = torch.optim.Adagrad(model_ft.parameters(), lr=0.001)\n",
    "exp_lr_scheduler = torch.optim.lr_scheduler.StepLR(optimizer_ft, step_size=7, gamma=0.1)"
   ]
  },
  {
   "cell_type": "code",
   "execution_count": 19,
   "metadata": {
    "tags": [
     "Model",
     "Training"
    ]
   },
   "outputs": [],
   "source": [
    "def train_model(model, criterion, optimizer, scheduler, num_epochs=20):\n",
    "    since = time.time()\n",
    "    best_acc = 0.0\n",
    "    best_model = copy.deepcopy(model.state_dict())\n",
    "    training_losses = []\n",
    "    validation_losses = []\n",
    "    new_freeze_state = None\n",
    "    prev_freeze_state = False\n",
    "    for epoch in range(num_epochs):\n",
    "        print(\"Epoch {}/{}\".format(epoch+1, num_epochs))\n",
    "        print('-' * 10)\n",
    "        \n",
    "        for phase in ['train', 'test']:\n",
    "            if phase == 'train':\n",
    "                scheduler.step()\n",
    "                model.train()\n",
    "            else:\n",
    "                model.eval()\n",
    "                \n",
    "            running_loss = 0.0\n",
    "            running_corrects = 0\n",
    "        \n",
    "            for inputs, labels in dataloaders[phase]:\n",
    "                inputs = inputs.to(device)\n",
    "                labels = labels.to(device)\n",
    "                \n",
    "                optimizer.zero_grad()\n",
    "                \n",
    "                \n",
    "                with torch.set_grad_enabled(phase == 'train'):\n",
    "                    outputs = model(inputs)\n",
    "                    _, preds = torch.max(outputs, 1)\n",
    "                    loss = criterion(outputs, labels)\n",
    "                    \n",
    "                    if phase == 'train':\n",
    "                        loss.backward()\n",
    "                        optimizer.step()\n",
    "                        \n",
    "                running_loss += loss.item() * inputs.size(0)\n",
    "                running_corrects += torch.sum(preds == labels.data)\n",
    "            \n",
    "            epoch_loss = running_loss / dataset_sizes[phase]\n",
    "            training_losses.append(epoch_loss) if phase=='train' else validation_losses.append(epoch_loss)\n",
    "            epoch_acc = running_corrects.double() / dataset_sizes[phase]\n",
    "            \n",
    "            print('{} Loss: {:.4f} Acc:{:.4f}'.format(\n",
    "                phase, epoch_loss, epoch_acc))\n",
    "            \n",
    "            \n",
    "            if phase == 'test' and epoch_acc > best_acc:\n",
    "                best_acc = epoch_acc\n",
    "                best_model = copy.deepcopy(model.state_dict())\n",
    "            \n",
    "            print()\n",
    "    \n",
    "    time_elapsed = time.time() - since\n",
    "    print('Training complete in {:0f}m {:.0f}s'.format(\n",
    "    time_elapsed // 60, time_elapsed % 60))\n",
    "    print('Best val acc: {:4f}'.format(best_acc))\n",
    "    \n",
    "    model.load_state_dict(best_model)\n",
    "    \n",
    "    return model,training_losses,validation_losses"
   ]
  },
  {
   "cell_type": "code",
   "execution_count": 17,
   "metadata": {
    "tags": []
   },
   "outputs": [
    {
     "name": "stdout",
     "output_type": "stream",
     "text": [
      "Epoch 1/20\n",
      "----------\n"
     ]
    },
    {
     "name": "stderr",
     "output_type": "stream",
     "text": [
      "C:\\Users\\somya\\.conda\\envs\\facemaskdetection\\lib\\site-packages\\torch\\optim\\lr_scheduler.py:118: UserWarning: Detected call of `lr_scheduler.step()` before `optimizer.step()`. In PyTorch 1.1.0 and later, you should call them in the opposite order: `optimizer.step()` before `lr_scheduler.step()`.  Failure to do this will result in PyTorch skipping the first value of the learning rate schedule. See more details at https://pytorch.org/docs/stable/optim.html#how-to-adjust-learning-rate\n",
      "  warnings.warn(\"Detected call of `lr_scheduler.step()` before `optimizer.step()`. \"\n"
     ]
    },
    {
     "name": "stdout",
     "output_type": "stream",
     "text": [
      "train Loss: 0.3614 Acc:0.8433\n",
      "\n",
      "test Loss: 0.0536 Acc:0.9928\n",
      "\n",
      "Epoch 2/20\n",
      "----------\n",
      "train Loss: 0.1944 Acc:0.9203\n",
      "\n",
      "test Loss: 0.0330 Acc:0.9964\n",
      "\n",
      "Epoch 3/20\n",
      "----------\n",
      "train Loss: 0.1077 Acc:0.9561\n",
      "\n",
      "test Loss: 0.0331 Acc:0.9964\n",
      "\n",
      "Epoch 4/20\n",
      "----------\n",
      "train Loss: 0.0968 Acc:0.9543\n",
      "\n",
      "test Loss: 0.0179 Acc:0.9928\n",
      "\n",
      "Epoch 5/20\n",
      "----------\n",
      "train Loss: 0.0932 Acc:0.9552\n",
      "\n",
      "test Loss: 0.0121 Acc:1.0000\n",
      "\n",
      "Epoch 6/20\n",
      "----------\n",
      "train Loss: 0.0836 Acc:0.9606\n",
      "\n",
      "test Loss: 0.0232 Acc:1.0000\n",
      "\n",
      "Epoch 7/20\n",
      "----------\n",
      "train Loss: 0.0709 Acc:0.9624\n",
      "\n",
      "test Loss: 0.0188 Acc:1.0000\n",
      "\n",
      "Epoch 8/20\n",
      "----------\n",
      "train Loss: 0.0699 Acc:0.9705\n",
      "\n",
      "test Loss: 0.0112 Acc:1.0000\n",
      "\n",
      "Epoch 9/20\n",
      "----------\n",
      "train Loss: 0.0552 Acc:0.9722\n",
      "\n",
      "test Loss: 0.0114 Acc:1.0000\n",
      "\n",
      "Epoch 10/20\n",
      "----------\n",
      "train Loss: 0.0901 Acc:0.9508\n",
      "\n",
      "test Loss: 0.0092 Acc:1.0000\n",
      "\n",
      "Epoch 11/20\n",
      "----------\n",
      "train Loss: 0.0660 Acc:0.9669\n",
      "\n",
      "test Loss: 0.0105 Acc:1.0000\n",
      "\n",
      "Epoch 12/20\n",
      "----------\n",
      "train Loss: 0.0541 Acc:0.9758\n",
      "\n",
      "test Loss: 0.0063 Acc:1.0000\n",
      "\n",
      "Epoch 13/20\n",
      "----------\n",
      "train Loss: 0.0603 Acc:0.9705\n",
      "\n",
      "test Loss: 0.0058 Acc:1.0000\n",
      "\n",
      "Epoch 14/20\n",
      "----------\n",
      "train Loss: 0.0796 Acc:0.9526\n",
      "\n",
      "test Loss: 0.0050 Acc:1.0000\n",
      "\n",
      "Epoch 15/20\n",
      "----------\n",
      "train Loss: 0.0693 Acc:0.9642\n",
      "\n",
      "test Loss: 0.0072 Acc:1.0000\n",
      "\n",
      "Epoch 16/20\n",
      "----------\n",
      "train Loss: 0.0558 Acc:0.9705\n",
      "\n",
      "test Loss: 0.0079 Acc:1.0000\n",
      "\n",
      "Epoch 17/20\n",
      "----------\n",
      "train Loss: 0.0685 Acc:0.9678\n",
      "\n",
      "test Loss: 0.0047 Acc:1.0000\n",
      "\n",
      "Epoch 18/20\n",
      "----------\n",
      "train Loss: 0.0530 Acc:0.9749\n",
      "\n",
      "test Loss: 0.0053 Acc:1.0000\n",
      "\n",
      "Epoch 19/20\n",
      "----------\n",
      "train Loss: 0.0659 Acc:0.9651\n",
      "\n",
      "test Loss: 0.0047 Acc:1.0000\n",
      "\n",
      "Epoch 20/20\n",
      "----------\n",
      "train Loss: 0.0667 Acc:0.9705\n",
      "\n",
      "test Loss: 0.0060 Acc:1.0000\n",
      "\n",
      "Training complete in 22.000000m 30s\n",
      "Best val acc: 1.000000\n"
     ]
    }
   ],
   "source": [
    "model_ft,training_losses,validation_losses = train_model(model_ft, criterion, optimizer_ft, exp_lr_scheduler, num_epochs=20)"
   ]
  },
  {
   "cell_type": "code",
   "execution_count": 21,
   "metadata": {},
   "outputs": [],
   "source": [
    "import matplotlib.pyplot as plt\n",
    "from datetime import datetime\n",
    "%matplotlib inline"
   ]
  },
  {
   "cell_type": "code",
   "execution_count": 22,
   "metadata": {},
   "outputs": [],
   "source": [
    "torch.save(model_ft,os.path.join('..','saved_models',f'facemaskdetection_new_mask_types{datetime.now()}.pth'))"
   ]
  },
  {
   "cell_type": "code",
   "execution_count": 33,
   "metadata": {},
   "outputs": [
    {
     "data": {
      "text/plain": [
       "Text(0.5, 0.98, 'Training History')"
      ]
     },
     "execution_count": 33,
     "metadata": {},
     "output_type": "execute_result"
    },
    {
     "data": {
      "image/png": "[encoded data removed]",
      "text/plain": [
       "<Figure size 432x288 with 1 Axes>"
      ]
     },
     "metadata": {
      "needs_background": "light"
     },
     "output_type": "display_data"
    }
   ],
   "source": [
    "from matplotlib.ticker import MaxNLocator\n",
    "\n",
    "fig, ax = plt.subplots()\n",
    "\n",
    "ax.plot(training_losses, label='train loss')\n",
    "ax.plot(validation_losses, label='validation loss')\n",
    "ax.xaxis.set_major_locator(MaxNLocator(integer=True))\n",
    "\n",
    "ax.set_ylim([-0.05, 1.05])\n",
    "ax.legend()\n",
    "ax.set_ylabel('Loss')\n",
    "ax.set_xlabel('Epoch')\n",
    "fig.suptitle('Training History', fontsize=16)\n"
   ]
  },
  {
   "cell_type": "code",
   "execution_count": null,
   "metadata": {},
   "outputs": [],
   "source": []
  }
 ],
 "metadata": {
  "kernelspec": {
   "display_name": "Python 3.8.3 64-bit ('facemaskdetection': conda)",
   "language": "python",
   "name": "python38364bitfacemaskdetectioncondabbc34c603e8842f99d319fd75ca39243"
  },
  "language_info": {
   "codemirror_mode": {
    "name": "ipython",
    "version": 3
   },
   "file_extension": ".py",
   "mimetype": "text/x-python",
   "name": "python",
   "nbconvert_exporter": "python",
   "pygments_lexer": "ipython3",
   "version": "3.8.3-final"
  }
 },
 "nbformat": 4,
 "nbformat_minor": 4
}