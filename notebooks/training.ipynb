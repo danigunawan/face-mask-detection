{
 "cells": [
  {
   "cell_type": "code",
   "execution_count": 7,
   "metadata": {},
   "outputs": [],
   "source": [
    "import sys\n",
    "sys.path.append('../')\n",
    "import torch \n",
    "import torch.nn as nn\n",
    "from torchvision import datasets,models,transforms\n",
    "import pandas as pd \n",
    "import os\n",
    "import glob\n",
    "import numpy as np\n",
    "from src import config "
   ]
  },
  {
   "cell_type": "code",
   "execution_count": 5,
   "metadata": {},
   "outputs": [
    {
     "output_type": "execute_result",
     "data": {
      "text/plain": "            filename      label\n0    0-with-mask.jpg  with_mask\n1    1-with-mask.jpg  with_mask\n2   10-with-mask.jpg  with_mask\n3  100-with-mask.jpg  with_mask\n4  101-with-mask.jpg  with_mask",
      "text/html": "<div>\n<style scoped>\n    .dataframe tbody tr th:only-of-type {\n        vertical-align: middle;\n    }\n\n    .dataframe tbody tr th {\n        vertical-align: top;\n    }\n\n    .dataframe thead th {\n        text-align: right;\n    }\n</style>\n<table border=\"1\" class=\"dataframe\">\n  <thead>\n    <tr style=\"text-align: right;\">\n      <th></th>\n      <th>filename</th>\n      <th>label</th>\n    </tr>\n  </thead>\n  <tbody>\n    <tr>\n      <th>0</th>\n      <td>0-with-mask.jpg</td>\n      <td>with_mask</td>\n    </tr>\n    <tr>\n      <th>1</th>\n      <td>1-with-mask.jpg</td>\n      <td>with_mask</td>\n    </tr>\n    <tr>\n      <th>2</th>\n      <td>10-with-mask.jpg</td>\n      <td>with_mask</td>\n    </tr>\n    <tr>\n      <th>3</th>\n      <td>100-with-mask.jpg</td>\n      <td>with_mask</td>\n    </tr>\n    <tr>\n      <th>4</th>\n      <td>101-with-mask.jpg</td>\n      <td>with_mask</td>\n    </tr>\n  </tbody>\n</table>\n</div>"
     },
     "metadata": {},
     "execution_count": 5
    }
   ],
   "source": [
    "train_df = pd.read_csv(os.path.join('..',config.TRAINING_DATA,'train.csv'))\n",
    "train_df.head()"
   ]
  },
  {
   "cell_type": "code",
   "execution_count": 6,
   "metadata": {},
   "outputs": [
    {
     "output_type": "execute_result",
     "data": {
      "text/plain": "                  filename      label\n0  augmented_image_227.jpg  with_mask\n1  augmented_image_228.jpg  with_mask\n2   augmented_image_23.jpg  with_mask\n3  augmented_image_230.jpg  with_mask\n4  augmented_image_232.jpg  with_mask",
      "text/html": "<div>\n<style scoped>\n    .dataframe tbody tr th:only-of-type {\n        vertical-align: middle;\n    }\n\n    .dataframe tbody tr th {\n        vertical-align: top;\n    }\n\n    .dataframe thead th {\n        text-align: right;\n    }\n</style>\n<table border=\"1\" class=\"dataframe\">\n  <thead>\n    <tr style=\"text-align: right;\">\n      <th></th>\n      <th>filename</th>\n      <th>label</th>\n    </tr>\n  </thead>\n  <tbody>\n    <tr>\n      <th>0</th>\n      <td>augmented_image_227.jpg</td>\n      <td>with_mask</td>\n    </tr>\n    <tr>\n      <th>1</th>\n      <td>augmented_image_228.jpg</td>\n      <td>with_mask</td>\n    </tr>\n    <tr>\n      <th>2</th>\n      <td>augmented_image_23.jpg</td>\n      <td>with_mask</td>\n    </tr>\n    <tr>\n      <th>3</th>\n      <td>augmented_image_230.jpg</td>\n      <td>with_mask</td>\n    </tr>\n    <tr>\n      <th>4</th>\n      <td>augmented_image_232.jpg</td>\n      <td>with_mask</td>\n    </tr>\n  </tbody>\n</table>\n</div>"
     },
     "metadata": {},
     "execution_count": 6
    }
   ],
   "source": [
    "test_df = pd.read_csv(os.path.join('..',config.TESTING_DATA,'test.csv'))\n",
    "test_df.head()"
   ]
  },
  {
   "cell_type": "code",
   "execution_count": 8,
   "metadata": {},
   "outputs": [],
   "source": [
    "data_transforms = {\n",
    "    'train': transforms.Compose([\n",
    "        transforms.RandomResizedCrop(224),\n",
    "        transforms.ToTensor(), \n",
    "        transforms.Normalize([0.485, 0.456, 0.406], [0.229, 0.224, 0.225])\n",
    "    ]), \n",
    "    'test' : transforms.Compose([\n",
    "        transforms.Resize(256),\n",
    "        transforms.CenterCrop(224),\n",
    "        transforms.ToTensor(),\n",
    "        transforms.Normalize([0.485, 0.456, 0.406], [0.229, 0.224, 0.225])\n",
    "    ])\n",
    "}"
   ]
  },
  {
   "cell_type": "code",
   "execution_count": 35,
   "metadata": {},
   "outputs": [],
   "source": [
    "data_dir = '../data/'\n",
    "image_datasets = {x: datasets.ImageFolder(os.path.join(data_dir, x), data_transforms[x]) for x in ['train', 'test']}"
   ]
  },
  {
   "cell_type": "code",
   "execution_count": 36,
   "metadata": {},
   "outputs": [
    {
     "output_type": "execute_result",
     "data": {
      "text/plain": "Dataset ImageFolder\n    Number of datapoints: 1096\n    Root location: ../data/train\n    StandardTransform\nTransform: Compose(\n               RandomResizedCrop(size=(224, 224), scale=(0.08, 1.0), ratio=(0.75, 1.3333), interpolation=PIL.Image.BILINEAR)\n               ToTensor()\n               Normalize(mean=[0.485, 0.456, 0.406], std=[0.229, 0.224, 0.225])\n           )"
     },
     "metadata": {},
     "execution_count": 36
    }
   ],
   "source": [
    "image_datasets['train']"
   ]
  },
  {
   "cell_type": "code",
   "execution_count": 37,
   "metadata": {},
   "outputs": [
    {
     "output_type": "execute_result",
     "data": {
      "text/plain": "Dataset ImageFolder\n    Number of datapoints: 276\n    Root location: ../data/test\n    StandardTransform\nTransform: Compose(\n               Resize(size=256, interpolation=PIL.Image.BILINEAR)\n               CenterCrop(size=(224, 224))\n               ToTensor()\n               Normalize(mean=[0.485, 0.456, 0.406], std=[0.229, 0.224, 0.225])\n           )"
     },
     "metadata": {},
     "execution_count": 37
    }
   ],
   "source": [
    "image_datasets['test']"
   ]
  },
  {
   "cell_type": "code",
   "execution_count": 38,
   "metadata": {},
   "outputs": [],
   "source": [
    "dataloaders = {x: torch.utils.data.DataLoader(image_datasets[x], \n",
    "                                             batch_size=16, \n",
    "                                             shuffle=True, \n",
    "                                             num_workers=4) \n",
    "               for x in ['train', 'test']}"
   ]
  },
  {
   "cell_type": "code",
   "execution_count": 39,
   "metadata": {},
   "outputs": [],
   "source": [
    "class_names = image_datasets['train'].classes"
   ]
  },
  {
   "cell_type": "code",
   "execution_count": 40,
   "metadata": {},
   "outputs": [
    {
     "output_type": "execute_result",
     "data": {
      "text/plain": "['with_mask', 'without_mask']"
     },
     "metadata": {},
     "execution_count": 40
    }
   ],
   "source": [
    "class_names"
   ]
  },
  {
   "cell_type": "code",
   "execution_count": 41,
   "metadata": {},
   "outputs": [],
   "source": [
    "device = torch.device(\"cuda:0\" if torch.cuda.is_available() else \"cpu\")"
   ]
  },
  {
   "cell_type": "code",
   "execution_count": 42,
   "metadata": {},
   "outputs": [
    {
     "output_type": "execute_result",
     "data": {
      "text/plain": "device(type='cpu')"
     },
     "metadata": {},
     "execution_count": 42
    }
   ],
   "source": [
    "device"
   ]
  },
  {
   "cell_type": "code",
   "execution_count": 43,
   "metadata": {},
   "outputs": [],
   "source": [
    "dataset_sizes = {x: len(image_datasets[x]) for x in ['train', 'test']}"
   ]
  },
  {
   "cell_type": "code",
   "execution_count": 44,
   "metadata": {},
   "outputs": [
    {
     "output_type": "execute_result",
     "data": {
      "text/plain": "{'train': 1096, 'test': 276}"
     },
     "metadata": {},
     "execution_count": 44
    }
   ],
   "source": [
    "dataset_sizes"
   ]
  },
  {
   "cell_type": "code",
   "execution_count": 46,
   "metadata": {},
   "outputs": [],
   "source": [
    "model_ft = models.resnet101(pretrained=True)\n",
    "\n",
    "num_frts = model_ft.fc.in_features\n",
    "model_ft.fc = nn.Linear(num_frts, len(class_names))\n",
    "\n",
    "model_ft = model_ft.to(device)\n",
    "criterion = nn.CrossEntropyLoss()\n",
    "\n",
    "#optimizer_ft = optim.SGD(model_ft.parameters(), lr=0.01, momentum=0.9)\n",
    "optimizer_ft = torch.optim.Adagrad(model_ft.parameters(), lr=0.001)\n",
    "exp_lr_scheduler = torch.optim.lr_scheduler.StepLR(optimizer_ft, step_size=7, gamma=0.1)"
   ]
  },
  {
   "cell_type": "code",
   "execution_count": null,
   "metadata": {},
   "outputs": [],
   "source": []
  }
 ],
 "metadata": {
  "language_info": {
   "codemirror_mode": {
    "name": "ipython",
    "version": 3
   },
   "file_extension": ".py",
   "mimetype": "text/x-python",
   "name": "python",
   "nbconvert_exporter": "python",
   "pygments_lexer": "ipython3",
   "version": "3.8.3-final"
  },
  "orig_nbformat": 2,
  "kernelspec": {
   "name": "python38364bitfacemaskdetectioncondabbc34c603e8842f99d319fd75ca39243",
   "display_name": "Python 3.8.3 64-bit ('facemaskdetection': conda)"
  }
 },
 "nbformat": 4,
 "nbformat_minor": 2
}