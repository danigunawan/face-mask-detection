{
 "cells": [
  {
   "cell_type": "code",
   "execution_count": 38,
   "metadata": {},
   "outputs": [],
   "source": [
    "import glob\n",
    "import os\n",
    "import warnings\n",
    "import matplotlib.pyplot as plt\n",
    "import seaborn as sns\n",
    "plt.style.use('fivethirtyeight')\n",
    "\n",
    "%matplotlib inline\n",
    "\n",
    "warnings.filterwarnings('ignore')"
   ]
  },
  {
   "cell_type": "code",
   "execution_count": 21,
   "metadata": {},
   "outputs": [],
   "source": [
    "no_of_masked_faces = len(glob.glob('../data/with_mask/*.jpg'))\n",
    "no_of_non_masked_faces = len(glob.glob('../data/without_mask/*.jpg'))"
   ]
  },
  {
   "cell_type": "code",
   "execution_count": 25,
   "metadata": {},
   "outputs": [
    {
     "output_type": "stream",
     "name": "stdout",
     "text": "Number Masked Faces samples: 686\nNumber Non-Masked Faces samples: 686\n"
    }
   ],
   "source": [
    "print(f'Number Masked Faces samples: {no_of_masked_faces}')\n",
    "print(f'Number Non-Masked Faces samples: {no_of_non_masked_faces}')"
   ]
  },
  {
   "cell_type": "code",
   "execution_count": 39,
   "metadata": {},
   "outputs": [
    {
     "output_type": "display_data",
     "data": {
      "text/plain": "<Figure size 432x288 with 1 Axes>",
      "image/png": "[encoded data removed]"
     },
     "metadata": {
      "needs_background": "light"
     }
    }
   ],
   "source": [
    "plt.bar(['no_of_masked_faces','no_of_non_masked_faces'], [no_of_masked_faces,no_of_non_masked_faces])\n",
    "plt.show()"
   ]
  },
  {
   "cell_type": "markdown",
   "metadata": {},
   "source": [
    "The class labels are more or less balanced."
   ]
  }
 ],
 "metadata": {
  "language_info": {
   "codemirror_mode": {
    "name": "ipython",
    "version": 3
   },
   "file_extension": ".py",
   "mimetype": "text/x-python",
   "name": "python",
   "nbconvert_exporter": "python",
   "pygments_lexer": "ipython3",
   "version": "3.8.3-final"
  },
  "orig_nbformat": 2,
  "kernelspec": {
   "name": "python38364bitfacemaskdetectioncondabbc34c603e8842f99d319fd75ca39243",
   "display_name": "Python 3.8.3 64-bit ('facemaskdetection': conda)"
  }
 },
 "nbformat": 4,
 "nbformat_minor": 2
}